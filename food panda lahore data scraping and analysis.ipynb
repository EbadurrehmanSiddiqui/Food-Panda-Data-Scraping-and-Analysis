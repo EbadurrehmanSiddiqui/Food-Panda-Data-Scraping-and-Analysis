{
 "cells": [
  {
   "cell_type": "code",
   "execution_count": 2,
   "metadata": {},
   "outputs": [],
   "source": [
    "import requests\n",
    "from bs4 import BeautifulSoup\n",
    "import pandas as pd\n",
    "import re\n",
    "%matplotlib inline"
   ]
  },
  {
   "cell_type": "markdown",
   "metadata": {},
   "source": [
    "### Data Scraping"
   ]
  },
  {
   "cell_type": "code",
   "execution_count": 3,
   "metadata": {},
   "outputs": [],
   "source": [
    "url = 'https://www.foodpanda.pk/city/lahore'\n",
    "response = requests.get(url)"
   ]
  },
  {
   "cell_type": "code",
   "execution_count": 4,
   "metadata": {},
   "outputs": [
    {
     "data": {
      "text/plain": [
       "<Response [200]>"
      ]
     },
     "execution_count": 4,
     "metadata": {},
     "output_type": "execute_result"
    }
   ],
   "source": [
    "# 200 indicates success\n",
    "response"
   ]
  },
  {
   "cell_type": "code",
   "execution_count": 5,
   "metadata": {},
   "outputs": [],
   "source": [
    "b_soup = BeautifulSoup(response.text, 'html.parser')\n",
    "names = []\n",
    "ratings = []\n",
    "ratings_count = []\n",
    "delivery_fee = []\n",
    "minimum_order = []\n",
    "vendor_char = []"
   ]
  },
  {
   "cell_type": "code",
   "execution_count": 6,
   "metadata": {},
   "outputs": [],
   "source": [
    "for a in b_soup.findAll('a', attrs={'class':'hreview-aggregate url'}):\n",
    "    name=a.find('span', attrs={'class':'name fn'})\n",
    "    names.append(name.text)\n",
    "    rating=a.find('span', attrs={'class':'rating'})\n",
    "    if rating:\n",
    "        ratings.append(rating.text)\n",
    "        rating_count=a.find('span', attrs={'class':'count'})\n",
    "        ratings_count.append(rating_count.text)\n",
    "    else:\n",
    "        ratings.append(None)\n",
    "        ratings_count.append(None)\n",
    "    min_order=a.find('ul', attrs={'class':'extra-info mov-df-extra-info'})\n",
    "    ls = min_order.text.split('\\n')\n",
    "    ls_ = [s for s in ls if s]\n",
    "    minimum_order.append(ls_[0])\n",
    "    delivery_fee.append(ls_[1])\n",
    "    vendor_characteristics=a.find('li', attrs={'class':'vendor-characteristic'})\n",
    "    vendor_char.append(vendor_characteristics.text)"
   ]
  },
  {
   "cell_type": "markdown",
   "metadata": {},
   "source": [
    "#### creating a data frame"
   ]
  },
  {
   "cell_type": "code",
   "execution_count": 7,
   "metadata": {},
   "outputs": [],
   "source": [
    "restaurants_df = pd.DataFrame()\n",
    "restaurants_df[\"name\"] = pd.Series(names)\n",
    "restaurants_df[\"rating\"] = pd.Series(ratings)\n",
    "restaurants_df[\"rating_count\"] = pd.Series(ratings_count)\n",
    "restaurants_df[\"delivery_fee\"] = pd.Series(delivery_fee)\n",
    "restaurants_df[\"min_order\"] = pd.Series(minimum_order)\n",
    "restaurants_df[\"vendor_char\"] = pd.Series(vendor_char)"
   ]
  },
  {
   "cell_type": "code",
   "execution_count": 8,
   "metadata": {},
   "outputs": [
    {
     "data": {
      "text/html": [
       "<div>\n",
       "<style scoped>\n",
       "    .dataframe tbody tr th:only-of-type {\n",
       "        vertical-align: middle;\n",
       "    }\n",
       "\n",
       "    .dataframe tbody tr th {\n",
       "        vertical-align: top;\n",
       "    }\n",
       "\n",
       "    .dataframe thead th {\n",
       "        text-align: right;\n",
       "    }\n",
       "</style>\n",
       "<table border=\"1\" class=\"dataframe\">\n",
       "  <thead>\n",
       "    <tr style=\"text-align: right;\">\n",
       "      <th></th>\n",
       "      <th>name</th>\n",
       "      <th>rating</th>\n",
       "      <th>rating_count</th>\n",
       "      <th>delivery_fee</th>\n",
       "      <th>min_order</th>\n",
       "      <th>vendor_char</th>\n",
       "    </tr>\n",
       "  </thead>\n",
       "  <tbody>\n",
       "    <tr>\n",
       "      <th>0</th>\n",
       "      <td>Samosa Kitchen</td>\n",
       "      <td>4/5</td>\n",
       "      <td>\\n219\\n</td>\n",
       "      <td>Free delivery</td>\n",
       "      <td>No minimum</td>\n",
       "      <td>\\nRestaurant Own delivery\\nPakistani\\n</td>\n",
       "    </tr>\n",
       "    <tr>\n",
       "      <th>1</th>\n",
       "      <td>Margherito's Pizza</td>\n",
       "      <td>4/5</td>\n",
       "      <td>\\n11\\n</td>\n",
       "      <td>Free delivery</td>\n",
       "      <td>No minimum</td>\n",
       "      <td>\\nPizza\\n</td>\n",
       "    </tr>\n",
       "    <tr>\n",
       "      <th>2</th>\n",
       "      <td>Shawarma Time - Bhabara Market</td>\n",
       "      <td>2.2/5</td>\n",
       "      <td>\\n4\\n</td>\n",
       "      <td>Free delivery</td>\n",
       "      <td>No minimum</td>\n",
       "      <td>\\nSuper Discount\\nFast Food\\n</td>\n",
       "    </tr>\n",
       "    <tr>\n",
       "      <th>3</th>\n",
       "      <td>Top Inn Pizza</td>\n",
       "      <td>None</td>\n",
       "      <td>None</td>\n",
       "      <td>Free delivery</td>\n",
       "      <td>No minimum</td>\n",
       "      <td>\\nChicken\\nFast Food\\nFried Chicken\\nSnacks-St...</td>\n",
       "    </tr>\n",
       "    <tr>\n",
       "      <th>4</th>\n",
       "      <td>#TheDeli</td>\n",
       "      <td>4.1/5</td>\n",
       "      <td>\\n6\\n</td>\n",
       "      <td>Free delivery</td>\n",
       "      <td>No minimum</td>\n",
       "      <td>\\nfoodpanda delivery\\nAmerican\\n</td>\n",
       "    </tr>\n",
       "    <tr>\n",
       "      <th>...</th>\n",
       "      <td>...</td>\n",
       "      <td>...</td>\n",
       "      <td>...</td>\n",
       "      <td>...</td>\n",
       "      <td>...</td>\n",
       "      <td>...</td>\n",
       "    </tr>\n",
       "    <tr>\n",
       "      <th>251</th>\n",
       "      <td>MAA G KY PARATHY</td>\n",
       "      <td>5/5</td>\n",
       "      <td>\\n1\\n</td>\n",
       "      <td>Free delivery</td>\n",
       "      <td>No minimum</td>\n",
       "      <td>\\nParatha\\nfoodpanda delivery\\nPakistani\\n</td>\n",
       "    </tr>\n",
       "    <tr>\n",
       "      <th>252</th>\n",
       "      <td>Mr Fluffy Fluffs</td>\n",
       "      <td>None</td>\n",
       "      <td>None</td>\n",
       "      <td>Free delivery</td>\n",
       "      <td>No minimum</td>\n",
       "      <td>\\nfoodpanda delivery\\nDesserts\\n</td>\n",
       "    </tr>\n",
       "    <tr>\n",
       "      <th>253</th>\n",
       "      <td>Kernel's Kitchen</td>\n",
       "      <td>3.6/5</td>\n",
       "      <td>\\n3\\n</td>\n",
       "      <td>Free delivery</td>\n",
       "      <td>No minimum</td>\n",
       "      <td>\\nBBQ\\nIce Cream\\nTea\\nRoll Paratha\\nfoodpanda...</td>\n",
       "    </tr>\n",
       "    <tr>\n",
       "      <th>254</th>\n",
       "      <td>Arabic Mandi</td>\n",
       "      <td>None</td>\n",
       "      <td>None</td>\n",
       "      <td>Free delivery</td>\n",
       "      <td>No minimum</td>\n",
       "      <td>\\nfoodpanda delivery\\nPakistani\\n</td>\n",
       "    </tr>\n",
       "    <tr>\n",
       "      <th>255</th>\n",
       "      <td>RPS MARKETPLACE TEST</td>\n",
       "      <td>None</td>\n",
       "      <td>None</td>\n",
       "      <td>Free delivery</td>\n",
       "      <td>No minimum</td>\n",
       "      <td>\\nRestaurant Own delivery\\nChinese\\n</td>\n",
       "    </tr>\n",
       "  </tbody>\n",
       "</table>\n",
       "<p>256 rows × 6 columns</p>\n",
       "</div>"
      ],
      "text/plain": [
       "                               name rating rating_count   delivery_fee  \\\n",
       "0                    Samosa Kitchen    4/5      \\n219\\n  Free delivery   \n",
       "1                Margherito's Pizza    4/5       \\n11\\n  Free delivery   \n",
       "2    Shawarma Time - Bhabara Market  2.2/5        \\n4\\n  Free delivery   \n",
       "3                     Top Inn Pizza   None         None  Free delivery   \n",
       "4                          #TheDeli  4.1/5        \\n6\\n  Free delivery   \n",
       "..                              ...    ...          ...            ...   \n",
       "251                MAA G KY PARATHY    5/5        \\n1\\n  Free delivery   \n",
       "252                Mr Fluffy Fluffs   None         None  Free delivery   \n",
       "253                Kernel's Kitchen  3.6/5        \\n3\\n  Free delivery   \n",
       "254                    Arabic Mandi   None         None  Free delivery   \n",
       "255            RPS MARKETPLACE TEST   None         None  Free delivery   \n",
       "\n",
       "      min_order                                        vendor_char  \n",
       "0    No minimum             \\nRestaurant Own delivery\\nPakistani\\n  \n",
       "1    No minimum                                          \\nPizza\\n  \n",
       "2    No minimum                      \\nSuper Discount\\nFast Food\\n  \n",
       "3    No minimum  \\nChicken\\nFast Food\\nFried Chicken\\nSnacks-St...  \n",
       "4    No minimum                   \\nfoodpanda delivery\\nAmerican\\n  \n",
       "..          ...                                                ...  \n",
       "251  No minimum         \\nParatha\\nfoodpanda delivery\\nPakistani\\n  \n",
       "252  No minimum                   \\nfoodpanda delivery\\nDesserts\\n  \n",
       "253  No minimum  \\nBBQ\\nIce Cream\\nTea\\nRoll Paratha\\nfoodpanda...  \n",
       "254  No minimum                  \\nfoodpanda delivery\\nPakistani\\n  \n",
       "255  No minimum               \\nRestaurant Own delivery\\nChinese\\n  \n",
       "\n",
       "[256 rows x 6 columns]"
      ]
     },
     "execution_count": 8,
     "metadata": {},
     "output_type": "execute_result"
    }
   ],
   "source": [
    "restaurants_df"
   ]
  },
  {
   "cell_type": "markdown",
   "metadata": {},
   "source": [
    "### Data Cleaning"
   ]
  },
  {
   "cell_type": "code",
   "execution_count": 9,
   "metadata": {},
   "outputs": [],
   "source": [
    "restaurants_df['rating_count'] = restaurants_df['rating_count'].apply(lambda x:x if (x is None) else re.findall(r'\\d+', x)[0])"
   ]
  },
  {
   "cell_type": "code",
   "execution_count": 10,
   "metadata": {},
   "outputs": [
    {
     "data": {
      "text/plain": [
       "0               [, Restaurant Own delivery, Pakistani, ]\n",
       "1                                            [, Pizza, ]\n",
       "2                        [, Super Discount, Fast Food, ]\n",
       "3      [, Chicken, Fast Food, Fried Chicken, Snacks-S...\n",
       "4                     [, foodpanda delivery, American, ]\n",
       "                             ...                        \n",
       "251         [, Paratha, foodpanda delivery, Pakistani, ]\n",
       "252                   [, foodpanda delivery, Desserts, ]\n",
       "253    [, BBQ, Ice Cream, Tea, Roll Paratha, foodpand...\n",
       "254                  [, foodpanda delivery, Pakistani, ]\n",
       "255               [, Restaurant Own delivery, Chinese, ]\n",
       "Name: vendor_char, Length: 256, dtype: object"
      ]
     },
     "execution_count": 10,
     "metadata": {},
     "output_type": "execute_result"
    }
   ],
   "source": [
    "restaurants_df['vendor_char'] = restaurants_df['vendor_char'].apply(lambda x: x.split('\\n'))\n",
    "restaurants_df['vendor_char'] "
   ]
  },
  {
   "cell_type": "code",
   "execution_count": 11,
   "metadata": {},
   "outputs": [
    {
     "data": {
      "text/plain": [
       "0                   [Restaurant Own delivery, Pakistani]\n",
       "1                                                [Pizza]\n",
       "2                            [Super Discount, Fast Food]\n",
       "3      [Chicken, Fast Food, Fried Chicken, Snacks-Str...\n",
       "4                         [foodpanda delivery, American]\n",
       "                             ...                        \n",
       "251             [Paratha, foodpanda delivery, Pakistani]\n",
       "252                       [foodpanda delivery, Desserts]\n",
       "253    [BBQ, Ice Cream, Tea, Roll Paratha, foodpanda ...\n",
       "254                      [foodpanda delivery, Pakistani]\n",
       "255                   [Restaurant Own delivery, Chinese]\n",
       "Name: vendor_char, Length: 256, dtype: object"
      ]
     },
     "execution_count": 11,
     "metadata": {},
     "output_type": "execute_result"
    }
   ],
   "source": [
    "restaurants_df['vendor_char'] = restaurants_df['vendor_char'].apply(lambda x: [s for s in x if s])\n",
    "restaurants_df['vendor_char']"
   ]
  },
  {
   "cell_type": "code",
   "execution_count": 12,
   "metadata": {},
   "outputs": [
    {
     "data": {
      "text/plain": [
       "0      Restaurant Own delivery\n",
       "1                             \n",
       "2                             \n",
       "3           foodpanda delivery\n",
       "4           foodpanda delivery\n",
       "                ...           \n",
       "251         foodpanda delivery\n",
       "252         foodpanda delivery\n",
       "253         foodpanda delivery\n",
       "254         foodpanda delivery\n",
       "255    Restaurant Own delivery\n",
       "Name: delivery_option, Length: 256, dtype: object"
      ]
     },
     "execution_count": 12,
     "metadata": {},
     "output_type": "execute_result"
    }
   ],
   "source": [
    "restaurants_df['delivery_option'] = restaurants_df['vendor_char'].apply(lambda x: ''.join([s for s in x if \"delivery\" in s]))\n",
    "restaurants_df['delivery_option']"
   ]
  },
  {
   "cell_type": "code",
   "execution_count": 13,
   "metadata": {},
   "outputs": [
    {
     "data": {
      "text/plain": [
       "0                                            [Pakistani]\n",
       "1                                                [Pizza]\n",
       "2                            [Super Discount, Fast Food]\n",
       "3      [Chicken, Fast Food, Fried Chicken, Snacks-Str...\n",
       "4                                             [American]\n",
       "                             ...                        \n",
       "251                                 [Paratha, Pakistani]\n",
       "252                                           [Desserts]\n",
       "253    [BBQ, Ice Cream, Tea, Roll Paratha, Beverage, ...\n",
       "254                                          [Pakistani]\n",
       "255                                            [Chinese]\n",
       "Name: food, Length: 256, dtype: object"
      ]
     },
     "execution_count": 13,
     "metadata": {},
     "output_type": "execute_result"
    }
   ],
   "source": [
    "restaurants_df['food'] = restaurants_df['vendor_char'].apply(lambda x: [s for s in x if \"delivery\" not in s])\n",
    "restaurants_df['food']"
   ]
  },
  {
   "cell_type": "code",
   "execution_count": 14,
   "metadata": {},
   "outputs": [],
   "source": [
    "# we don't need to keep this column now\n",
    "restaurants_df.drop('vendor_char', axis=1, inplace=True)"
   ]
  },
  {
   "cell_type": "code",
   "execution_count": 15,
   "metadata": {},
   "outputs": [],
   "source": [
    "restaurants_df['rating'] = restaurants_df['rating'].apply(lambda x: x if x is None else x.split('/')[0])"
   ]
  },
  {
   "cell_type": "code",
   "execution_count": 16,
   "metadata": {},
   "outputs": [],
   "source": [
    "restaurants_df.rename(columns={'rating': 'rating(out of 5)'},inplace=True)"
   ]
  },
  {
   "cell_type": "code",
   "execution_count": 17,
   "metadata": {},
   "outputs": [
    {
     "data": {
      "text/html": [
       "<div>\n",
       "<style scoped>\n",
       "    .dataframe tbody tr th:only-of-type {\n",
       "        vertical-align: middle;\n",
       "    }\n",
       "\n",
       "    .dataframe tbody tr th {\n",
       "        vertical-align: top;\n",
       "    }\n",
       "\n",
       "    .dataframe thead th {\n",
       "        text-align: right;\n",
       "    }\n",
       "</style>\n",
       "<table border=\"1\" class=\"dataframe\">\n",
       "  <thead>\n",
       "    <tr style=\"text-align: right;\">\n",
       "      <th></th>\n",
       "      <th>name</th>\n",
       "      <th>rating(out of 5)</th>\n",
       "      <th>rating_count</th>\n",
       "      <th>delivery_fee</th>\n",
       "      <th>min_order</th>\n",
       "      <th>delivery_option</th>\n",
       "      <th>food</th>\n",
       "    </tr>\n",
       "  </thead>\n",
       "  <tbody>\n",
       "    <tr>\n",
       "      <th>0</th>\n",
       "      <td>Samosa Kitchen</td>\n",
       "      <td>4</td>\n",
       "      <td>219</td>\n",
       "      <td>Free delivery</td>\n",
       "      <td>No minimum</td>\n",
       "      <td>Restaurant Own delivery</td>\n",
       "      <td>[Pakistani]</td>\n",
       "    </tr>\n",
       "    <tr>\n",
       "      <th>1</th>\n",
       "      <td>Margherito's Pizza</td>\n",
       "      <td>4</td>\n",
       "      <td>11</td>\n",
       "      <td>Free delivery</td>\n",
       "      <td>No minimum</td>\n",
       "      <td></td>\n",
       "      <td>[Pizza]</td>\n",
       "    </tr>\n",
       "    <tr>\n",
       "      <th>2</th>\n",
       "      <td>Shawarma Time - Bhabara Market</td>\n",
       "      <td>2.2</td>\n",
       "      <td>4</td>\n",
       "      <td>Free delivery</td>\n",
       "      <td>No minimum</td>\n",
       "      <td></td>\n",
       "      <td>[Super Discount, Fast Food]</td>\n",
       "    </tr>\n",
       "    <tr>\n",
       "      <th>3</th>\n",
       "      <td>Top Inn Pizza</td>\n",
       "      <td>None</td>\n",
       "      <td>None</td>\n",
       "      <td>Free delivery</td>\n",
       "      <td>No minimum</td>\n",
       "      <td>foodpanda delivery</td>\n",
       "      <td>[Chicken, Fast Food, Fried Chicken, Snacks-Str...</td>\n",
       "    </tr>\n",
       "    <tr>\n",
       "      <th>4</th>\n",
       "      <td>#TheDeli</td>\n",
       "      <td>4.1</td>\n",
       "      <td>6</td>\n",
       "      <td>Free delivery</td>\n",
       "      <td>No minimum</td>\n",
       "      <td>foodpanda delivery</td>\n",
       "      <td>[American]</td>\n",
       "    </tr>\n",
       "    <tr>\n",
       "      <th>...</th>\n",
       "      <td>...</td>\n",
       "      <td>...</td>\n",
       "      <td>...</td>\n",
       "      <td>...</td>\n",
       "      <td>...</td>\n",
       "      <td>...</td>\n",
       "      <td>...</td>\n",
       "    </tr>\n",
       "    <tr>\n",
       "      <th>251</th>\n",
       "      <td>MAA G KY PARATHY</td>\n",
       "      <td>5</td>\n",
       "      <td>1</td>\n",
       "      <td>Free delivery</td>\n",
       "      <td>No minimum</td>\n",
       "      <td>foodpanda delivery</td>\n",
       "      <td>[Paratha, Pakistani]</td>\n",
       "    </tr>\n",
       "    <tr>\n",
       "      <th>252</th>\n",
       "      <td>Mr Fluffy Fluffs</td>\n",
       "      <td>None</td>\n",
       "      <td>None</td>\n",
       "      <td>Free delivery</td>\n",
       "      <td>No minimum</td>\n",
       "      <td>foodpanda delivery</td>\n",
       "      <td>[Desserts]</td>\n",
       "    </tr>\n",
       "    <tr>\n",
       "      <th>253</th>\n",
       "      <td>Kernel's Kitchen</td>\n",
       "      <td>3.6</td>\n",
       "      <td>3</td>\n",
       "      <td>Free delivery</td>\n",
       "      <td>No minimum</td>\n",
       "      <td>foodpanda delivery</td>\n",
       "      <td>[BBQ, Ice Cream, Tea, Roll Paratha, Beverage, ...</td>\n",
       "    </tr>\n",
       "    <tr>\n",
       "      <th>254</th>\n",
       "      <td>Arabic Mandi</td>\n",
       "      <td>None</td>\n",
       "      <td>None</td>\n",
       "      <td>Free delivery</td>\n",
       "      <td>No minimum</td>\n",
       "      <td>foodpanda delivery</td>\n",
       "      <td>[Pakistani]</td>\n",
       "    </tr>\n",
       "    <tr>\n",
       "      <th>255</th>\n",
       "      <td>RPS MARKETPLACE TEST</td>\n",
       "      <td>None</td>\n",
       "      <td>None</td>\n",
       "      <td>Free delivery</td>\n",
       "      <td>No minimum</td>\n",
       "      <td>Restaurant Own delivery</td>\n",
       "      <td>[Chinese]</td>\n",
       "    </tr>\n",
       "  </tbody>\n",
       "</table>\n",
       "<p>256 rows × 7 columns</p>\n",
       "</div>"
      ],
      "text/plain": [
       "                               name rating(out of 5) rating_count  \\\n",
       "0                    Samosa Kitchen                4          219   \n",
       "1                Margherito's Pizza                4           11   \n",
       "2    Shawarma Time - Bhabara Market              2.2            4   \n",
       "3                     Top Inn Pizza             None         None   \n",
       "4                          #TheDeli              4.1            6   \n",
       "..                              ...              ...          ...   \n",
       "251                MAA G KY PARATHY                5            1   \n",
       "252                Mr Fluffy Fluffs             None         None   \n",
       "253                Kernel's Kitchen              3.6            3   \n",
       "254                    Arabic Mandi             None         None   \n",
       "255            RPS MARKETPLACE TEST             None         None   \n",
       "\n",
       "      delivery_fee   min_order          delivery_option  \\\n",
       "0    Free delivery  No minimum  Restaurant Own delivery   \n",
       "1    Free delivery  No minimum                            \n",
       "2    Free delivery  No minimum                            \n",
       "3    Free delivery  No minimum       foodpanda delivery   \n",
       "4    Free delivery  No minimum       foodpanda delivery   \n",
       "..             ...         ...                      ...   \n",
       "251  Free delivery  No minimum       foodpanda delivery   \n",
       "252  Free delivery  No minimum       foodpanda delivery   \n",
       "253  Free delivery  No minimum       foodpanda delivery   \n",
       "254  Free delivery  No minimum       foodpanda delivery   \n",
       "255  Free delivery  No minimum  Restaurant Own delivery   \n",
       "\n",
       "                                                  food  \n",
       "0                                          [Pakistani]  \n",
       "1                                              [Pizza]  \n",
       "2                          [Super Discount, Fast Food]  \n",
       "3    [Chicken, Fast Food, Fried Chicken, Snacks-Str...  \n",
       "4                                           [American]  \n",
       "..                                                 ...  \n",
       "251                               [Paratha, Pakistani]  \n",
       "252                                         [Desserts]  \n",
       "253  [BBQ, Ice Cream, Tea, Roll Paratha, Beverage, ...  \n",
       "254                                        [Pakistani]  \n",
       "255                                          [Chinese]  \n",
       "\n",
       "[256 rows x 7 columns]"
      ]
     },
     "execution_count": 17,
     "metadata": {},
     "output_type": "execute_result"
    }
   ],
   "source": [
    "restaurants_df"
   ]
  },
  {
   "cell_type": "code",
   "execution_count": 18,
   "metadata": {},
   "outputs": [
    {
     "data": {
      "text/html": [
       "<div>\n",
       "<style scoped>\n",
       "    .dataframe tbody tr th:only-of-type {\n",
       "        vertical-align: middle;\n",
       "    }\n",
       "\n",
       "    .dataframe tbody tr th {\n",
       "        vertical-align: top;\n",
       "    }\n",
       "\n",
       "    .dataframe thead th {\n",
       "        text-align: right;\n",
       "    }\n",
       "</style>\n",
       "<table border=\"1\" class=\"dataframe\">\n",
       "  <thead>\n",
       "    <tr style=\"text-align: right;\">\n",
       "      <th></th>\n",
       "      <th>name</th>\n",
       "      <th>rating(out of 5)</th>\n",
       "      <th>rating_count</th>\n",
       "      <th>delivery_fee</th>\n",
       "      <th>min_order</th>\n",
       "      <th>delivery_option</th>\n",
       "      <th>food</th>\n",
       "    </tr>\n",
       "  </thead>\n",
       "  <tbody>\n",
       "    <tr>\n",
       "      <th>count</th>\n",
       "      <td>256</td>\n",
       "      <td>165</td>\n",
       "      <td>165</td>\n",
       "      <td>256</td>\n",
       "      <td>256</td>\n",
       "      <td>256</td>\n",
       "      <td>256</td>\n",
       "    </tr>\n",
       "    <tr>\n",
       "      <th>unique</th>\n",
       "      <td>255</td>\n",
       "      <td>23</td>\n",
       "      <td>115</td>\n",
       "      <td>2</td>\n",
       "      <td>1</td>\n",
       "      <td>3</td>\n",
       "      <td>198</td>\n",
       "    </tr>\n",
       "    <tr>\n",
       "      <th>top</th>\n",
       "      <td>Tandoor Restaurant</td>\n",
       "      <td>4.1</td>\n",
       "      <td>1</td>\n",
       "      <td>Free delivery</td>\n",
       "      <td>No minimum</td>\n",
       "      <td>foodpanda delivery</td>\n",
       "      <td>[Pakistani]</td>\n",
       "    </tr>\n",
       "    <tr>\n",
       "      <th>freq</th>\n",
       "      <td>2</td>\n",
       "      <td>28</td>\n",
       "      <td>14</td>\n",
       "      <td>253</td>\n",
       "      <td>256</td>\n",
       "      <td>200</td>\n",
       "      <td>16</td>\n",
       "    </tr>\n",
       "  </tbody>\n",
       "</table>\n",
       "</div>"
      ],
      "text/plain": [
       "                      name rating(out of 5) rating_count   delivery_fee  \\\n",
       "count                  256              165          165            256   \n",
       "unique                 255               23          115              2   \n",
       "top     Tandoor Restaurant              4.1            1  Free delivery   \n",
       "freq                     2               28           14            253   \n",
       "\n",
       "         min_order     delivery_option         food  \n",
       "count          256                 256          256  \n",
       "unique           1                   3          198  \n",
       "top     No minimum  foodpanda delivery  [Pakistani]  \n",
       "freq           256                 200           16  "
      ]
     },
     "execution_count": 18,
     "metadata": {},
     "output_type": "execute_result"
    }
   ],
   "source": [
    "restaurants_df.describe(include='all')"
   ]
  },
  {
   "cell_type": "code",
   "execution_count": 19,
   "metadata": {},
   "outputs": [
    {
     "data": {
      "text/plain": [
       "name                object\n",
       "rating(out of 5)    object\n",
       "rating_count        object\n",
       "delivery_fee        object\n",
       "min_order           object\n",
       "delivery_option     object\n",
       "food                object\n",
       "dtype: object"
      ]
     },
     "execution_count": 19,
     "metadata": {},
     "output_type": "execute_result"
    }
   ],
   "source": [
    "restaurants_df.dtypes"
   ]
  },
  {
   "cell_type": "markdown",
   "metadata": {},
   "source": [
    "#### changing the data type of columns with numerical data"
   ]
  },
  {
   "cell_type": "code",
   "execution_count": 20,
   "metadata": {},
   "outputs": [],
   "source": [
    "restaurants_df['rating(out of 5)'] = restaurants_df['rating(out of 5)'].astype('float')"
   ]
  },
  {
   "cell_type": "code",
   "execution_count": 21,
   "metadata": {},
   "outputs": [],
   "source": [
    "restaurants_df['rating_count'] = restaurants_df['rating_count'].astype('float')"
   ]
  },
  {
   "cell_type": "code",
   "execution_count": 22,
   "metadata": {},
   "outputs": [
    {
     "data": {
      "text/plain": [
       "name                 object\n",
       "rating(out of 5)    float64\n",
       "rating_count        float64\n",
       "delivery_fee         object\n",
       "min_order            object\n",
       "delivery_option      object\n",
       "food                 object\n",
       "dtype: object"
      ]
     },
     "execution_count": 22,
     "metadata": {},
     "output_type": "execute_result"
    }
   ],
   "source": [
    "restaurants_df.dtypes"
   ]
  },
  {
   "cell_type": "code",
   "execution_count": 23,
   "metadata": {},
   "outputs": [
    {
     "data": {
      "text/html": [
       "<div>\n",
       "<style scoped>\n",
       "    .dataframe tbody tr th:only-of-type {\n",
       "        vertical-align: middle;\n",
       "    }\n",
       "\n",
       "    .dataframe tbody tr th {\n",
       "        vertical-align: top;\n",
       "    }\n",
       "\n",
       "    .dataframe thead th {\n",
       "        text-align: right;\n",
       "    }\n",
       "</style>\n",
       "<table border=\"1\" class=\"dataframe\">\n",
       "  <thead>\n",
       "    <tr style=\"text-align: right;\">\n",
       "      <th></th>\n",
       "      <th>name</th>\n",
       "      <th>rating(out of 5)</th>\n",
       "      <th>rating_count</th>\n",
       "      <th>delivery_fee</th>\n",
       "      <th>min_order</th>\n",
       "      <th>delivery_option</th>\n",
       "      <th>food</th>\n",
       "    </tr>\n",
       "  </thead>\n",
       "  <tbody>\n",
       "    <tr>\n",
       "      <th>count</th>\n",
       "      <td>256</td>\n",
       "      <td>165.000000</td>\n",
       "      <td>165.000000</td>\n",
       "      <td>256</td>\n",
       "      <td>256</td>\n",
       "      <td>256</td>\n",
       "      <td>256</td>\n",
       "    </tr>\n",
       "    <tr>\n",
       "      <th>unique</th>\n",
       "      <td>255</td>\n",
       "      <td>NaN</td>\n",
       "      <td>NaN</td>\n",
       "      <td>2</td>\n",
       "      <td>1</td>\n",
       "      <td>3</td>\n",
       "      <td>198</td>\n",
       "    </tr>\n",
       "    <tr>\n",
       "      <th>top</th>\n",
       "      <td>Tandoor Restaurant</td>\n",
       "      <td>NaN</td>\n",
       "      <td>NaN</td>\n",
       "      <td>Free delivery</td>\n",
       "      <td>No minimum</td>\n",
       "      <td>foodpanda delivery</td>\n",
       "      <td>[Pakistani]</td>\n",
       "    </tr>\n",
       "    <tr>\n",
       "      <th>freq</th>\n",
       "      <td>2</td>\n",
       "      <td>NaN</td>\n",
       "      <td>NaN</td>\n",
       "      <td>253</td>\n",
       "      <td>256</td>\n",
       "      <td>200</td>\n",
       "      <td>16</td>\n",
       "    </tr>\n",
       "    <tr>\n",
       "      <th>mean</th>\n",
       "      <td>NaN</td>\n",
       "      <td>3.850909</td>\n",
       "      <td>293.418182</td>\n",
       "      <td>NaN</td>\n",
       "      <td>NaN</td>\n",
       "      <td>NaN</td>\n",
       "      <td>NaN</td>\n",
       "    </tr>\n",
       "    <tr>\n",
       "      <th>std</th>\n",
       "      <td>NaN</td>\n",
       "      <td>0.712828</td>\n",
       "      <td>607.464634</td>\n",
       "      <td>NaN</td>\n",
       "      <td>NaN</td>\n",
       "      <td>NaN</td>\n",
       "      <td>NaN</td>\n",
       "    </tr>\n",
       "    <tr>\n",
       "      <th>min</th>\n",
       "      <td>NaN</td>\n",
       "      <td>1.000000</td>\n",
       "      <td>1.000000</td>\n",
       "      <td>NaN</td>\n",
       "      <td>NaN</td>\n",
       "      <td>NaN</td>\n",
       "      <td>NaN</td>\n",
       "    </tr>\n",
       "    <tr>\n",
       "      <th>25%</th>\n",
       "      <td>NaN</td>\n",
       "      <td>3.800000</td>\n",
       "      <td>9.000000</td>\n",
       "      <td>NaN</td>\n",
       "      <td>NaN</td>\n",
       "      <td>NaN</td>\n",
       "      <td>NaN</td>\n",
       "    </tr>\n",
       "    <tr>\n",
       "      <th>50%</th>\n",
       "      <td>NaN</td>\n",
       "      <td>4.000000</td>\n",
       "      <td>48.000000</td>\n",
       "      <td>NaN</td>\n",
       "      <td>NaN</td>\n",
       "      <td>NaN</td>\n",
       "      <td>NaN</td>\n",
       "    </tr>\n",
       "    <tr>\n",
       "      <th>75%</th>\n",
       "      <td>NaN</td>\n",
       "      <td>4.200000</td>\n",
       "      <td>214.000000</td>\n",
       "      <td>NaN</td>\n",
       "      <td>NaN</td>\n",
       "      <td>NaN</td>\n",
       "      <td>NaN</td>\n",
       "    </tr>\n",
       "    <tr>\n",
       "      <th>max</th>\n",
       "      <td>NaN</td>\n",
       "      <td>5.000000</td>\n",
       "      <td>3639.000000</td>\n",
       "      <td>NaN</td>\n",
       "      <td>NaN</td>\n",
       "      <td>NaN</td>\n",
       "      <td>NaN</td>\n",
       "    </tr>\n",
       "  </tbody>\n",
       "</table>\n",
       "</div>"
      ],
      "text/plain": [
       "                      name  rating(out of 5)  rating_count   delivery_fee  \\\n",
       "count                  256        165.000000    165.000000            256   \n",
       "unique                 255               NaN           NaN              2   \n",
       "top     Tandoor Restaurant               NaN           NaN  Free delivery   \n",
       "freq                     2               NaN           NaN            253   \n",
       "mean                   NaN          3.850909    293.418182            NaN   \n",
       "std                    NaN          0.712828    607.464634            NaN   \n",
       "min                    NaN          1.000000      1.000000            NaN   \n",
       "25%                    NaN          3.800000      9.000000            NaN   \n",
       "50%                    NaN          4.000000     48.000000            NaN   \n",
       "75%                    NaN          4.200000    214.000000            NaN   \n",
       "max                    NaN          5.000000   3639.000000            NaN   \n",
       "\n",
       "         min_order     delivery_option         food  \n",
       "count          256                 256          256  \n",
       "unique           1                   3          198  \n",
       "top     No minimum  foodpanda delivery  [Pakistani]  \n",
       "freq           256                 200           16  \n",
       "mean           NaN                 NaN          NaN  \n",
       "std            NaN                 NaN          NaN  \n",
       "min            NaN                 NaN          NaN  \n",
       "25%            NaN                 NaN          NaN  \n",
       "50%            NaN                 NaN          NaN  \n",
       "75%            NaN                 NaN          NaN  \n",
       "max            NaN                 NaN          NaN  "
      ]
     },
     "execution_count": 23,
     "metadata": {},
     "output_type": "execute_result"
    }
   ],
   "source": [
    "# now that we have float data type, the output of describe() is below\n",
    "restaurants_df.describe(include='all')"
   ]
  },
  {
   "cell_type": "markdown",
   "metadata": {},
   "source": [
    "### Saving Data Frame as CSV File"
   ]
  },
  {
   "cell_type": "code",
   "execution_count": 24,
   "metadata": {},
   "outputs": [],
   "source": [
    "restaurants_df.to_csv('food_panda_lhr_data.csv',sep=\"\\t\")"
   ]
  },
  {
   "cell_type": "markdown",
   "metadata": {},
   "source": [
    "### Analyzing Data"
   ]
  },
  {
   "cell_type": "code",
   "execution_count": 25,
   "metadata": {},
   "outputs": [
    {
     "data": {
      "text/plain": [
       "<matplotlib.axes._subplots.AxesSubplot at 0x7f42c59bd650>"
      ]
     },
     "execution_count": 25,
     "metadata": {},
     "output_type": "execute_result"
    },
    {
     "data": {
      "image/png": "[encoded data removed]",
      "text/plain": [
       "<Figure size 432x288 with 1 Axes>"
      ]
     },
     "metadata": {
      "needs_background": "light"
     },
     "output_type": "display_data"
    }
   ],
   "source": [
    "restaurants_df['rating(out of 5)'].hist()"
   ]
  },
  {
   "cell_type": "markdown",
   "metadata": {},
   "source": [
    "#### list of unique items in 'food' column"
   ]
  },
  {
   "cell_type": "code",
   "execution_count": 26,
   "metadata": {},
   "outputs": [
    {
     "data": {
      "text/plain": [
       "{'Afghani',\n",
       " 'Afro-Portuguese',\n",
       " 'American',\n",
       " 'Arabic',\n",
       " 'Asian',\n",
       " 'BBQ',\n",
       " 'Beverage',\n",
       " 'Broast',\n",
       " 'Burgers',\n",
       " 'Cakes & Bakery',\n",
       " 'Chicken',\n",
       " 'Chinese',\n",
       " 'Coffee',\n",
       " 'Crepes',\n",
       " 'Cupcakes',\n",
       " 'Curry',\n",
       " 'Desserts',\n",
       " 'European',\n",
       " 'Fast Food',\n",
       " 'Finger Foods',\n",
       " 'Fish',\n",
       " 'Fried Chicken',\n",
       " 'Halwa',\n",
       " 'Healthy',\n",
       " 'Hot dogs',\n",
       " 'Ice Cream',\n",
       " 'Ice Cream Shakes',\n",
       " 'International',\n",
       " 'Italian',\n",
       " 'Japanese',\n",
       " 'Juices',\n",
       " 'Karahi',\n",
       " 'Lassi',\n",
       " 'Lebanese',\n",
       " 'Meat',\n",
       " 'Mexican',\n",
       " 'Middle Eastern',\n",
       " 'Namkeen',\n",
       " 'Noodles',\n",
       " 'Pakistani',\n",
       " 'Pakora',\n",
       " 'Pancakes',\n",
       " 'Paratha',\n",
       " 'Pasta',\n",
       " 'Pizza',\n",
       " 'Prawns',\n",
       " 'Rice',\n",
       " 'Roll Paratha',\n",
       " 'Salad',\n",
       " 'Sandwiches',\n",
       " 'Seafood',\n",
       " 'Singaporean',\n",
       " 'Smoothie Bowl',\n",
       " 'Snacks-Street Food',\n",
       " 'Soup',\n",
       " 'Spicy',\n",
       " 'Steaks',\n",
       " 'Super Discount',\n",
       " 'Sweets',\n",
       " 'Tacos',\n",
       " 'Tandoor',\n",
       " 'Tea',\n",
       " 'Thai',\n",
       " 'Thin Crust Pizza',\n",
       " 'Turkish',\n",
       " 'Vegetarian',\n",
       " 'Vietnamese',\n",
       " 'Waffle',\n",
       " 'Western',\n",
       " 'Wraps'}"
      ]
     },
     "execution_count": 26,
     "metadata": {},
     "output_type": "execute_result"
    }
   ],
   "source": [
    "set([item for list in restaurants_df['food'].values for item in list])"
   ]
  },
  {
   "cell_type": "markdown",
   "metadata": {},
   "source": [
    "#### restaurants which serve certain type of food"
   ]
  },
  {
   "cell_type": "code",
   "execution_count": 29,
   "metadata": {},
   "outputs": [
    {
     "name": "stdout",
     "output_type": "stream",
     "text": [
      "0                                      Samosa Kitchen\n",
      "8                         Balochi Sajji by Bundu Khan\n",
      "11                               Salt N Pepper lahore\n",
      "12                                    Khala's Kitchen\n",
      "13                                            Basanti\n",
      "14                           Lahori Biryani - Gulberg\n",
      "16                                       Sultan Basha\n",
      "17                                   Karachi Red Rock\n",
      "19            Karachi Master Foods Paratha Roll & BBQ\n",
      "20                        Red Pepper Restaurant & BBQ\n",
      "24                  Karachi Golden BBQ & Paratha Roll\n",
      "25                                     Kings & Queens\n",
      "28                                Paradise Restaurant\n",
      "34                                     Downtown China\n",
      "42                                    Lebanese Corner\n",
      "43                                     Five Star Cafe\n",
      "47                                           The Spot\n",
      "62                                        Cafe Anokhi\n",
      "63                                 Al Madina Naan Hut\n",
      "68                                     Rizwan Biryani\n",
      "71            Vip Sabir Daal Chawal & Chicken Biryani\n",
      "82                                       Zaiqa Lounge\n",
      "84                                     What A Paratha\n",
      "86                          Karachi Kanteen - Gulberg\n",
      "94                               Chit Chaat - Gulberg\n",
      "95                                             Qabail\n",
      "99                                       Cafe Solasta\n",
      "100                        Bagh - The Desi Experience\n",
      "117                                            Wasabi\n",
      "121                                     Burger Corner\n",
      "122                                     Clifton Grill\n",
      "124                                  Burns Road House\n",
      "125                                   bar B Q tonight\n",
      "134                                      Nadeem Tikka\n",
      "139                             Rafay Chicken Biryani\n",
      "141                                       Snacks City\n",
      "142                                            Wazwan\n",
      "146                               Virsa Biryani Spice\n",
      "152                                  Ahmad Dhai Bhala\n",
      "155                                    Colorado Pizza\n",
      "159                                          Ice Lane\n",
      "160                                 Madina Restaurant\n",
      "164                 What a Paratha - Fortress Stadium\n",
      "165                              Gourmet Restaurant 2\n",
      "167                                       Cock N Bull\n",
      "169           Bombay Chowpatty - Fortress Square Mall\n",
      "171                            Cheen Chutney Aur Chai\n",
      "174    Balochi Sajji By Bundu Khan - Fortress Stadium\n",
      "176                                       Swadi Rasoi\n",
      "177                                  BAR-B-QUE Garden\n",
      "181                             Bundu Khan Restaurant\n",
      "182                          JAIDI Restaurant BIRYANI\n",
      "184              JAIDI Restaurant-Fast Food & Chinese\n",
      "186                                     Nawab Biryani\n",
      "187                                      Mayari Zaika\n",
      "189                                     Haleem Kinara\n",
      "194                        Eastwood LA - Bar BQ Today\n",
      "196                                   Paneera Express\n",
      "199                            Food Spot - PAF Market\n",
      "200                                        Haji Hotel\n",
      "201                                  Usman Restaurant\n",
      "202                                       Spice Kraft\n",
      "203                    Lahore Chatkhara - DHA Phase 1\n",
      "205                              Lahori Spicy Biryani\n",
      "207                                Tandoor Restaurant\n",
      "211                                     A Dar Ul Mahi\n",
      "212                                          Al-Minal\n",
      "213                                    A. Butt Karahi\n",
      "217                               Speedy Boys Kitchen\n",
      "222                         Karachi Hot N Spicy - DHA\n",
      "224                                Delhi Nihari House\n",
      "229                     Defence Dhaba - Barkat Market\n",
      "234                             Karachi Kanteen - DHA\n",
      "238                                  Thali Restaurant\n",
      "239                                       Little Chef\n",
      "240                                Tandoor Restaurant\n",
      "242                                  AR Quality Foods\n",
      "243                                 Karachi BBQ - DHA\n",
      "245                              Biryani Express KHAS\n",
      "246                                         Red Apple\n",
      "247                                Yasir Broast - Dha\n",
      "248                                  Dogar Restaurant\n",
      "249                             Cottage Grill & Gravy\n",
      "250                                     Dumpukht Kada\n",
      "251                                  MAA G KY PARATHY\n",
      "254                                      Arabic Mandi\n",
      "Name: name, dtype: object\n"
     ]
    }
   ],
   "source": [
    "food_type = ['Pakistani']\n",
    "with pd.option_context('display.max_rows', None, 'display.max_columns', None):\n",
    "    print(restaurants_df[pd.DataFrame(restaurants_df.food.tolist()).isin(food_type).any(1)]['name'])"
   ]
  },
  {
   "cell_type": "markdown",
   "metadata": {},
   "source": [
    "#### minimum and maximum value of rating for each type of delivery option"
   ]
  },
  {
   "cell_type": "code",
   "execution_count": 30,
   "metadata": {},
   "outputs": [
    {
     "data": {
      "text/html": [
       "<div>\n",
       "<style scoped>\n",
       "    .dataframe tbody tr th:only-of-type {\n",
       "        vertical-align: middle;\n",
       "    }\n",
       "\n",
       "    .dataframe tbody tr th {\n",
       "        vertical-align: top;\n",
       "    }\n",
       "\n",
       "    .dataframe thead th {\n",
       "        text-align: right;\n",
       "    }\n",
       "</style>\n",
       "<table border=\"1\" class=\"dataframe\">\n",
       "  <thead>\n",
       "    <tr style=\"text-align: right;\">\n",
       "      <th></th>\n",
       "      <th>Min</th>\n",
       "      <th>Max</th>\n",
       "    </tr>\n",
       "    <tr>\n",
       "      <th>delivery_option</th>\n",
       "      <th></th>\n",
       "      <th></th>\n",
       "    </tr>\n",
       "  </thead>\n",
       "  <tbody>\n",
       "    <tr>\n",
       "      <th></th>\n",
       "      <td>2.2</td>\n",
       "      <td>4.7</td>\n",
       "    </tr>\n",
       "    <tr>\n",
       "      <th>Restaurant Own delivery</th>\n",
       "      <td>3.3</td>\n",
       "      <td>5.0</td>\n",
       "    </tr>\n",
       "    <tr>\n",
       "      <th>foodpanda delivery</th>\n",
       "      <td>1.0</td>\n",
       "      <td>5.0</td>\n",
       "    </tr>\n",
       "  </tbody>\n",
       "</table>\n",
       "</div>"
      ],
      "text/plain": [
       "                         Min  Max\n",
       "delivery_option                  \n",
       "                         2.2  4.7\n",
       "Restaurant Own delivery  3.3  5.0\n",
       "foodpanda delivery       1.0  5.0"
      ]
     },
     "execution_count": 30,
     "metadata": {},
     "output_type": "execute_result"
    }
   ],
   "source": [
    "restaurants_df.groupby('delivery_option')['rating(out of 5)'].agg([('Min' , 'min'), ('Max', 'max')])"
   ]
  },
  {
   "cell_type": "code",
   "execution_count": null,
   "metadata": {},
   "outputs": [],
   "source": []
  }
 ],
 "metadata": {
  "kernelspec": {
   "display_name": "Python 3",
   "language": "python",
   "name": "python3"
  },
  "language_info": {
   "codemirror_mode": {
    "name": "ipython",
    "version": 3
   },
   "file_extension": ".py",
   "mimetype": "text/x-python",
   "name": "python",
   "nbconvert_exporter": "python",
   "pygments_lexer": "ipython3",
   "version": "3.7.4"
  }
 },
 "nbformat": 4,
 "nbformat_minor": 2
}
